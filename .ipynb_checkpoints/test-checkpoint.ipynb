{
 "cells": [
  {
   "cell_type": "code",
   "execution_count": 1,
   "metadata": {},
   "outputs": [],
   "source": [
    "import pandas as pd\n",
    "\n",
    "from openpyxl import load_workbook\n",
    "from openpyxl.styles import Font\n",
    "from openpyxl.chart import BarChart, Reference"
   ]
  },
  {
   "cell_type": "code",
   "execution_count": 3,
   "metadata": {},
   "outputs": [
    {
     "name": "stdout",
     "output_type": "stream",
     "text": [
      "   ID       Date   Speedometer  Distance  Litres purchased  litres per km  \\\n",
      "0  24 2020-12-15        241427     389.3             34.96        11.1356   \n",
      "1  23 2020-12-09        241038     419.8             35.05        11.9772   \n",
      "2   1 2020-12-03        240618     374.2             32.13            NaN   \n",
      "3   7 2020-11-30        240244     433.3             33.42        12.9653   \n",
      "4  10 2020-11-29        239810     403.0             32.80        12.2866   \n",
      "\n",
      "   Price per Litre              Garage  TotalCost  \n",
      "0          14.4600  Engen Killner Park     505.52  \n",
      "1          14.4593    Total StormvoÃ«l     506.80  \n",
      "2          14.4600    Sasol StormvoÃ«l     464.60  \n",
      "3          14.5898  Engen Killner Park     487.59  \n",
      "4          15.0000          Caltex DLY     492.00  \n"
     ]
    }
   ],
   "source": [
    "#read data\n",
    "df = pd.read_excel('data.xlsx')\n",
    "\n",
    "print(df.head())"
   ]
  },
  {
   "cell_type": "code",
   "execution_count": 9,
   "metadata": {},
   "outputs": [
    {
     "name": "stdout",
     "output_type": "stream",
     "text": [
      "                    TotalCost\n",
      "Garage                       \n",
      "Caltex DLY            1041.00\n",
      "Engen Burgersfort      479.00\n",
      "Engen Hatfield         296.75\n",
      "Engen Killner Park    3239.07\n",
      "Engen Mooirivier       232.41\n"
     ]
    }
   ],
   "source": [
    "# Testing pivot table\n",
    "\n",
    "quartely_sales = pd.pivot_table(df, index = df['Garage'], values = 'TotalCost', aggfunc='sum')\n",
    "print(quartely_sales.head())"
   ]
  },
  {
   "cell_type": "code",
   "execution_count": 14,
   "metadata": {},
   "outputs": [],
   "source": [
    "#create excell workbook\n",
    "file_path = \"C:/Users/jandr/Desktop/data/Garage Sales.xlsx\"\n",
    "quartely_sales.to_excel(file_path, sheet_name = 'Garage Sales', startrow=3)"
   ]
  },
  {
   "cell_type": "code",
   "execution_count": 39,
   "metadata": {},
   "outputs": [],
   "source": [
    "#loading workbook\n",
    "wb = load_workbook(file_path)\n",
    "sheet1 = wb['Garage Sales']\n",
    "\n",
    "#format sheet\n",
    "sheet1['A1'] = 'Garage sales'\n",
    "sheet1['A2'] = 'Total sales for Garages'\n",
    "sheet1['A3'] = 'Garage name'\n",
    "\n",
    "sheet1['A1'].style = 'Title'\n",
    "sheet1['A2'].style = 'Headline 2'\n",
    "\n",
    "for i in  range(5,18):\n",
    "    sheet1[f'B{i}'].style='Currency [0]'\n",
    "    \n",
    "#adding barchart\n",
    "bar_chart = BarChart()\n",
    "data = Reference(sheet1, min_col=2, max_col=13, min_row=4, max_row=18)\n",
    "categories = Reference(sheet1, min_col=1, max_col=1, min_row=5, max_row=18)\n",
    "bar_chart.add_data(data, titles_from_data=True)\n",
    "bar_chart.set_categories(categories)\n",
    "sheet1.add_chart(bar_chart, \"F4\")\n",
    "\n",
    "bar_chart.title = 'Garage Sales'\n",
    "bar_chart.style = 3\n",
    "wb.save(filename = file_path)"
   ]
  },
  {
   "cell_type": "code",
   "execution_count": null,
   "metadata": {},
   "outputs": [],
   "source": []
  }
 ],
 "metadata": {
  "kernelspec": {
   "display_name": "Python 3",
   "language": "python",
   "name": "python3"
  },
  "language_info": {
   "codemirror_mode": {
    "name": "ipython",
    "version": 3
   },
   "file_extension": ".py",
   "mimetype": "text/x-python",
   "name": "python",
   "nbconvert_exporter": "python",
   "pygments_lexer": "ipython3",
   "version": "3.8.3"
  }
 },
 "nbformat": 4,
 "nbformat_minor": 4
}
